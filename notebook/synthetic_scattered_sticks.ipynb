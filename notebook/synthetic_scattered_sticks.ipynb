{
 "cells": [
  {
   "cell_type": "code",
   "execution_count": 1,
   "metadata": {
    "ExecuteTime": {
     "end_time": "2018-05-27T04:57:22.797211Z",
     "start_time": "2018-05-27T04:57:22.554798Z"
    }
   },
   "outputs": [],
   "source": [
    "import numpy as np\n",
    "import cv2\n",
    "import matplotlib.pyplot as plt\n",
    "\n",
    "np.random.seed(0)\n",
    "%matplotlib inline"
   ]
  },
  {
   "cell_type": "code",
   "execution_count": 2,
   "metadata": {
    "ExecuteTime": {
     "end_time": "2018-05-27T04:57:22.947764Z",
     "start_time": "2018-05-27T04:57:22.798520Z"
    }
   },
   "outputs": [],
   "source": [
    "import sys\n",
    "sys.path.append('../src/')\n",
    "\n",
    "from utils import gen_mask, coloring"
   ]
  },
  {
   "cell_type": "code",
   "execution_count": 3,
   "metadata": {
    "ExecuteTime": {
     "end_time": "2018-05-27T04:57:22.990015Z",
     "start_time": "2018-05-27T04:57:22.948839Z"
    }
   },
   "outputs": [],
   "source": [
    "n_sticks = 8\n",
    "height = 256\n",
    "width = 256\n",
    "\n",
    "while True:\n",
    "    img = np.ones((height, width), dtype=np.uint8) * 255\n",
    "    ins = np.zeros((0, height, width), dtype=np.uint8)\n",
    "    for _ in range(n_sticks):\n",
    "        x = np.random.randint(30, 225)\n",
    "        y = np.random.randint(30, 225)\n",
    "        w = 15\n",
    "        h = np.random.randint(80, 100)\n",
    "        theta = np.random.randint(-90, 90)\n",
    "        rect = ([x, y], [w, h], theta)\n",
    "        box = np.int0(cv2.boxPoints(rect))\n",
    "\n",
    "        gt = np.zeros_like(img)\n",
    "        gt = cv2.fillPoly(gt, [box], 1)\n",
    "        ins[:, gt != 0] = 0\n",
    "        ins = np.concatenate([ins, gt[np.newaxis]])\n",
    "        img = cv2.fillPoly(img, [box], 255)\n",
    "        img = cv2.drawContours(img, [box], 0, 0, 2)\n",
    "\n",
    "    if np.sum(np.sum(ins, axis=(1, 2)) < 400) == 0:\n",
    "        break"
   ]
  },
  {
   "cell_type": "code",
   "execution_count": 4,
   "metadata": {
    "ExecuteTime": {
     "end_time": "2018-05-27T04:57:23.202795Z",
     "start_time": "2018-05-27T04:57:22.991022Z"
    }
   },
   "outputs": [
    {
     "data": {
      "text/plain": [
       "<matplotlib.image.AxesImage at 0x7ff90769c828>"
      ]
     },
     "execution_count": 4,
     "metadata": {},
     "output_type": "execute_result"
    },
    {
     "data": {
      "image/png": "[encoded data removed]",
      "text/plain": [
       "<Figure size 1080x1080 with 3 Axes>"
      ]
     },
     "metadata": {},
     "output_type": "display_data"
    }
   ],
   "source": [
    "fig, axes = plt.subplots(1, 3, figsize=(15, 15))\n",
    "plt.gray()\n",
    "\n",
    "axes[0].imshow(img)\n",
    "axes[1].imshow(np.sum(ins, axis=0))\n",
    "axes[2].imshow(coloring(gen_mask(ins)))"
   ]
  },
  {
   "cell_type": "code",
   "execution_count": null,
   "metadata": {},
   "outputs": [],
   "source": []
  }
 ],
 "metadata": {
  "kernelspec": {
   "display_name": "Python-pytorch0.3.1",
   "language": "python",
   "name": "pytorch0.3.1"
  },
  "language_info": {
   "codemirror_mode": {
    "name": "ipython",
    "version": 3
   },
   "file_extension": ".py",
   "mimetype": "text/x-python",
   "name": "python",
   "nbconvert_exporter": "python",
   "pygments_lexer": "ipython3",
   "version": "3.6.6"
  },
  "toc": {
   "nav_menu": {},
   "number_sections": true,
   "sideBar": true,
   "skip_h1_title": false,
   "toc_cell": false,
   "toc_position": {},
   "toc_section_display": "block",
   "toc_window_display": false
  }
 },
 "nbformat": 4,
 "nbformat_minor": 2
}
