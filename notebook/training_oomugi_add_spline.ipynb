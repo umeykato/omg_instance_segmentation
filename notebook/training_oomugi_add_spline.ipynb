{
 "cells": [
  {
   "cell_type": "code",
   "execution_count": 1,
   "metadata": {
    "ExecuteTime": {
     "end_time": "2018-05-27T04:54:35.458415Z",
     "start_time": "2018-05-27T04:54:35.299306Z"
    }
   },
   "outputs": [],
   "source": [
    "import numpy as np\n",
    "from pathlib import Path\n",
    "\n",
    "import torch\n",
    "import torch.nn as nn\n",
    "import torch.nn.functional as F\n",
    "import torch.optim as optim\n",
    "from torch.utils.data import DataLoader\n",
    "from torch.autograd import Variable\n",
    "from torchvision.utils import save_image\n",
    "\n",
    "from tensorboardX import SummaryWriter"
   ]
  },
  {
   "cell_type": "code",
   "execution_count": 2,
   "metadata": {
    "ExecuteTime": {
     "end_time": "2018-05-27T04:54:35.605623Z",
     "start_time": "2018-05-27T04:54:35.459565Z"
    },
    "scrolled": true
   },
   "outputs": [
    {
     "name": "stdout",
     "output_type": "stream",
     "text": [
      "['',\n",
      " '/home/demo/.virtualenvs/pytorch-0.3.1/lib/python36.zip',\n",
      " '/home/demo/.virtualenvs/pytorch-0.3.1/lib/python3.6',\n",
      " '/home/demo/.virtualenvs/pytorch-0.3.1/lib/python3.6/lib-dynload',\n",
      " '/usr/lib/python3.6',\n",
      " '/home/demo/.virtualenvs/pytorch-0.3.1/lib/python3.6/site-packages',\n",
      " '/home/demo/.virtualenvs/pytorch-0.3.1/lib/python3.6/site-packages/IPython/extensions',\n",
      " '/home/demo/.ipython',\n",
      " '/home/demo/document/ykato_git/omg_instance_segmentation/src/oomugi_add_spline']\n"
     ]
    }
   ],
   "source": [
    "import sys\n",
    "import os\n",
    "import time\n",
    "# sys.path.append('../src/oomugi/')\n",
    "sys.path.append(os.path.abspath('../src/oomugi_add_spline/'))\n",
    "import pprint\n",
    "pprint.pprint(sys.path)\n",
    "\n",
    "from model import UNet\n",
    "from dataset import SSSDataset\n",
    "from loss import DiscriminativeLoss"
   ]
  },
  {
   "cell_type": "code",
   "execution_count": 3,
   "metadata": {
    "ExecuteTime": {
     "end_time": "2018-05-27T04:54:35.608184Z",
     "start_time": "2018-05-27T04:54:35.606670Z"
    }
   },
   "outputs": [],
   "source": [
    "n_sticks = 8\n",
    "img_size = 256\n",
    "batch_size = 1"
   ]
  },
  {
   "cell_type": "code",
   "execution_count": 4,
   "metadata": {
    "ExecuteTime": {
     "end_time": "2018-05-27T04:54:36.974833Z",
     "start_time": "2018-05-27T04:54:35.609077Z"
    }
   },
   "outputs": [],
   "source": [
    "# Model\n",
    "model = UNet(img_size).cuda()"
   ]
  },
  {
   "cell_type": "code",
   "execution_count": null,
   "metadata": {
    "ExecuteTime": {
     "end_time": "2018-05-27T04:54:36.978309Z",
     "start_time": "2018-05-27T04:54:36.975999Z"
    }
   },
   "outputs": [],
   "source": [
    "# Dataset for train\n",
    "train_dataset = SSSDataset(train=True, n_sticks=n_sticks, img_size=img_size)\n",
    "train_dataloader = DataLoader(train_dataset, batch_size=batch_size,\n",
    "                              shuffle=False, num_workers=0, pin_memory=True)"
   ]
  },
  {
   "cell_type": "code",
   "execution_count": null,
   "metadata": {
    "ExecuteTime": {
     "end_time": "2018-05-27T04:54:36.981864Z",
     "start_time": "2018-05-27T04:54:36.979448Z"
    }
   },
   "outputs": [],
   "source": [
    "# Loss Function\n",
    "criterion_disc = DiscriminativeLoss(delta_var=0.5,\n",
    "                                    delta_dist=1.5,\n",
    "                                    norm=2,\n",
    "                                    usegpu=True).cuda()\n",
    "criterion_ce = nn.CrossEntropyLoss().cuda()\n",
    "criterion_spline = nn.MSELoss().cuda()"
   ]
  },
  {
   "cell_type": "code",
   "execution_count": null,
   "metadata": {
    "ExecuteTime": {
     "end_time": "2018-05-27T04:54:36.986508Z",
     "start_time": "2018-05-27T04:54:36.983106Z"
    }
   },
   "outputs": [],
   "source": [
    "# Optimizer\n",
    "parameters = model.parameters()\n",
    "optimizer = optim.SGD(parameters, lr=0.01, momentum=0.9, weight_decay=0.001)\n",
    "scheduler = optim.lr_scheduler.ReduceLROnPlateau(optimizer=optimizer,\n",
    "                                                 mode='min',\n",
    "                                                 factor=0.1,\n",
    "                                                 patience=10,\n",
    "                                                 verbose=True)"
   ]
  },
  {
   "cell_type": "code",
   "execution_count": null,
   "metadata": {
    "ExecuteTime": {
     "end_time": "2018-05-27T04:54:38.403441Z",
     "start_time": "2018-05-27T04:54:36.987711Z"
    },
    "scrolled": true
   },
   "outputs": [
    {
     "name": "stdout",
     "output_type": "stream",
     "text": [
      "start\n",
      "epoch : 0\n",
      "DiscriminativeLoss: 0.5070\n",
      "CrossEntropyLoss: 0.0114\n",
      "MSELoss: 0.0308\n",
      "epoch : 1\n",
      "DiscriminativeLoss: 0.3501\n",
      "CrossEntropyLoss: 0.0020\n",
      "MSELoss: 0.0079\n",
      "epoch : 2\n",
      "DiscriminativeLoss: 0.3296\n",
      "CrossEntropyLoss: 0.0018\n",
      "MSELoss: 0.0079\n",
      "epoch : 3\n",
      "DiscriminativeLoss: 0.3128\n",
      "CrossEntropyLoss: 0.0016\n",
      "MSELoss: 0.0079\n",
      "epoch : 4\n",
      "DiscriminativeLoss: 0.3110\n",
      "CrossEntropyLoss: 0.0017\n",
      "MSELoss: 0.0079\n",
      "epoch : 5\n",
      "DiscriminativeLoss: 0.3161\n",
      "CrossEntropyLoss: 0.0016\n",
      "MSELoss: 0.0079\n",
      "epoch : 6\n",
      "DiscriminativeLoss: 0.2858\n",
      "CrossEntropyLoss: 0.0014\n",
      "MSELoss: 0.0079\n",
      "epoch : 7\n",
      "DiscriminativeLoss: 0.2942\n",
      "CrossEntropyLoss: 0.0016\n",
      "MSELoss: 0.0079\n",
      "epoch : 8\n",
      "DiscriminativeLoss: 0.2859\n",
      "CrossEntropyLoss: 0.0016\n",
      "MSELoss: 0.0079\n",
      "epoch : 9\n",
      "DiscriminativeLoss: 0.2786\n",
      "CrossEntropyLoss: 0.0015\n",
      "MSELoss: 0.0079\n",
      "epoch : 10\n"
     ]
    }
   ],
   "source": [
    "# Train\n",
    "save_dir = '../../result/omg_instance_segmentation/'\n",
    "model_dir = Path('../../result/omg_instance_segmentation/model')\n",
    "\n",
    "import socket\n",
    "from datetime import datetime\n",
    "current_time = datetime.now().strftime('%b%d_%H-%M-%S')\n",
    "log_dir = os.path.join(save_dir + 'runs', current_time + '_' + socket.gethostname())\n",
    "writer = SummaryWriter(log_dir=log_dir)\n",
    "\n",
    "best_loss = np.inf\n",
    "start = time.time()\n",
    "print(\"start\")\n",
    "for epoch in range(300):\n",
    "    print(f'epoch : {epoch}')\n",
    "    disc_losses = []\n",
    "    ce_losses = []\n",
    "    spline_losses = []\n",
    "    for batched in train_dataloader:\n",
    "        images, sem_labels, ins_labels, ins_num, spline_labels, spline_num = batched\n",
    "        \n",
    "        if ins_num[0] == 0:\n",
    "            print('continue')\n",
    "            continue\n",
    "        \n",
    "#         print(images.size())\n",
    "#         print(sem_labels.size())\n",
    "#         print(ins_labels.size())\n",
    "#         print(spline_labels.size())\n",
    "        \n",
    "        nb ,nc, nh, nw = sem_labels.size()\n",
    "        \n",
    "#         print('images ', images.numpy().shape)\n",
    "#         print('sem_labels ', sem_labels.numpy().shape)\n",
    "#         print('ins_labels ', ins_labels.numpy().shape)\n",
    "#         save_image(images,'debug_images.png', padding=10)\n",
    "# #         save_image(torch.from_numpy(sem_labels.numpy()[:,0,:,:]).contiguous(),'debug_sem_labels.png', padding=10)\n",
    "# #         save_image(ins_labels,'debug_ins_labels.png', padding=10)\n",
    "#         print(type(sem_labels), sem_labels.size())\n",
    "#         tmpTensor = sem_labels[:,0,:,:].contiguous()\n",
    "#         save_image(tmpTensor.view(nb, 1, nh, nw),'debug_sem_labels.png', padding=10)\n",
    "#         for i in range(8):\n",
    "#             tmpTensor = ins_labels[:,i,:,:].contiguous()\n",
    "#             save_image(tmpTensor.view(nb, 1, nh, nw),'debug_ins_labels{}.png'.format(i), padding=10)\n",
    "        \n",
    "        \n",
    "        images = Variable(images).cuda()\n",
    "        sem_labels = Variable(sem_labels).cuda()\n",
    "        ins_labels = Variable(ins_labels).cuda()\n",
    "        spline_labels = Variable(spline_labels).cuda()\n",
    "        model.zero_grad()\n",
    "\n",
    "        sem_predict, ins_predict, spline_predict = model(images)\n",
    "        spline_predict = spline_predict.view((batch_size, 60, 8, 2))\n",
    "        \n",
    "#         print(sem_predict.size())\n",
    "#         print(ins_predict.size())\n",
    "#         print(spline_predict.size())\n",
    "        \n",
    "        loss = 0\n",
    "        \n",
    "#         print('sem_predict ', sem_predict.cpu().data.numpy().shape)\n",
    "#         #save_image(sem_predict[:,0,:,:],'debug_sem_predict.png', padding=10)\n",
    "#         tmpTensor = sem_predict.cpu().data\n",
    "#         print(type(tmpTensor), tmpTensor.size())\n",
    "#         tmpTensor = tmpTensor[:,0,:,:].contiguous()\n",
    "#         save_image(tmpTensor.view(nb, 1, nh, nw),'debug_sem_predict.png', padding=10)\n",
    "#         tmpTensor = ins_predict.cpu().data\n",
    "#         print(type(tmpTensor), tmpTensor.size())\n",
    "#         for i in range(16):\n",
    "#             tmpTensor_a = tmpTensor[:,i,:,:].contiguous()\n",
    "#             print('ins_predict', tmpTensor_a.view(nb, 1, nh, nw).size())\n",
    "#             save_image(tmpTensor_a.view(nb, 1, nh, nw),'debug_ins_predict{}.png'.format(i), padding=10)\n",
    "\n",
    "        # Discriminative Loss\n",
    "#         disc_loss = criterion_disc(ins_predict,\n",
    "#                                    ins_labels,\n",
    "#                                    [n_sticks] * len(images))\n",
    "#         print('ins_predict.size {}'.format(ins_predict.size()))\n",
    "#         print('ins_labels.size {}'.format(ins_labels.size()))\n",
    "#         print('ins_num.size {}'.format(ins_num.size()))\n",
    "\n",
    "\n",
    "    \n",
    "        disc_loss = criterion_disc(ins_predict, ins_labels, ins_num)\n",
    "        loss += disc_loss\n",
    "        disc_losses.append(disc_loss.cpu().data.numpy()[0])\n",
    "\n",
    "        # Cross Entropy Loss\n",
    "        _, sem_labels_ce = sem_labels.max(1)\n",
    "        ce_loss = criterion_ce(sem_predict.permute(0, 2, 3, 1)\\\n",
    "                                   .contiguous().view(-1, 2),\n",
    "                               sem_labels_ce.view(-1))\n",
    "        loss += ce_loss\n",
    "        ce_losses.append(ce_loss.cpu().data.numpy()[0])\n",
    "        \n",
    "        # Cross Entropy Loss\n",
    "        # spline_labels : (1, 60*8*2)\n",
    "        # spline_predict : (1,60*8*2)\n",
    "        # print(spline_num)\n",
    "        spline_predict = spline_predict.narrow(1, 0, spline_num[0])\n",
    "        spline_labels = spline_labels.narrow(1, 0, spline_num[0])\n",
    "#         print('predict', spline_predict.size())\n",
    "#         print(spline_predict)\n",
    "        \n",
    "#         print('labels', spline_labels.size())\n",
    "#         print(spline_labels)\n",
    "        \n",
    "        spline_loss = criterion_spline(spline_predict, spline_labels)\n",
    "        \n",
    "        loss += spline_loss\n",
    "        spline_losses.append(spline_loss.cpu().data.numpy()[0])\n",
    "\n",
    "        loss.backward()\n",
    "        optimizer.step()\n",
    "    disc_loss = np.mean(disc_losses)\n",
    "    ce_loss = np.mean(ce_losses)\n",
    "    spline_loss = np.mean(spline_losses)\n",
    "    print(f'DiscriminativeLoss: {disc_loss:.4f}')\n",
    "    print(f'CrossEntropyLoss: {ce_loss:.4f}')\n",
    "    print(f'MSELoss: {spline_loss:.4f}')\n",
    "    writer.add_scalar('train/disc_loss', disc_loss , epoch)\n",
    "    writer.add_scalar('train/ce_loss', ce_loss , epoch)\n",
    "    writer.add_scalar('train/spline_loss', spline_loss , epoch)\n",
    "    scheduler.step(disc_loss)\n",
    "#     if disc_loss < best_loss:\n",
    "    if epoch % 30 == 0:\n",
    "#         best_loss = disc_loss\n",
    "#         print('Best Model!')\n",
    "        modelname = 'model_epoch{}.pth'.format(str(epoch))\n",
    "        torch.save(model.state_dict(), model_dir.joinpath(modelname))\n",
    "        \n",
    "elapsed_time = time.time() - start\n",
    "print(\"elapsed_time:{0}\".format(elapsed_time) + \"[sec]\")"
   ]
  },
  {
   "cell_type": "code",
   "execution_count": null,
   "metadata": {},
   "outputs": [],
   "source": []
  },
  {
   "cell_type": "code",
   "execution_count": null,
   "metadata": {},
   "outputs": [],
   "source": []
  }
 ],
 "metadata": {
  "kernelspec": {
   "display_name": "pytorch-0.3.1",
   "language": "python",
   "name": "pytorch-0.3.1"
  },
  "language_info": {
   "codemirror_mode": {
    "name": "ipython",
    "version": 3
   },
   "file_extension": ".py",
   "mimetype": "text/x-python",
   "name": "python",
   "nbconvert_exporter": "python",
   "pygments_lexer": "ipython3",
   "version": "3.6.5"
  },
  "toc": {
   "nav_menu": {},
   "number_sections": true,
   "sideBar": true,
   "skip_h1_title": false,
   "toc_cell": false,
   "toc_position": {},
   "toc_section_display": "block",
   "toc_window_display": false
  }
 },
 "nbformat": 4,
 "nbformat_minor": 2
}
