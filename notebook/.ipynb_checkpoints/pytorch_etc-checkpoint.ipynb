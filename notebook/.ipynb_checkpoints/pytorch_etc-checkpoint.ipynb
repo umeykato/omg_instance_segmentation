{
 "cells": [
  {
   "cell_type": "code",
   "execution_count": 12,
   "metadata": {},
   "outputs": [],
   "source": [
    "import numpy as np\n",
    "from pathlib import Path\n",
    "import cv2\n",
    "\n",
    "import torch\n",
    "import torch.nn as nn\n",
    "import torch.nn.functional as F\n",
    "import torch.optim as optim\n",
    "from torch.utils.data import DataLoader\n",
    "from torch.autograd import Variable\n",
    "from torchvision.utils import save_image"
   ]
  },
  {
   "cell_type": "code",
   "execution_count": 13,
   "metadata": {},
   "outputs": [
    {
     "name": "stdout",
     "output_type": "stream",
     "text": [
      "['',\n",
      " 'C:\\\\Users\\\\y_kato\\\\Anaconda3\\\\envs\\\\pytorch0.3.1\\\\python36.zip',\n",
      " 'C:\\\\Users\\\\y_kato\\\\Anaconda3\\\\envs\\\\pytorch0.3.1\\\\DLLs',\n",
      " 'C:\\\\Users\\\\y_kato\\\\Anaconda3\\\\envs\\\\pytorch0.3.1\\\\lib',\n",
      " 'C:\\\\Users\\\\y_kato\\\\Anaconda3\\\\envs\\\\pytorch0.3.1',\n",
      " 'C:\\\\Users\\\\y_kato\\\\Anaconda3\\\\envs\\\\pytorch0.3.1\\\\lib\\\\site-packages',\n",
      " 'C:\\\\Users\\\\y_kato\\\\Anaconda3\\\\envs\\\\pytorch0.3.1\\\\lib\\\\site-packages\\\\win32',\n",
      " 'C:\\\\Users\\\\y_kato\\\\Anaconda3\\\\envs\\\\pytorch0.3.1\\\\lib\\\\site-packages\\\\win32\\\\lib',\n",
      " 'C:\\\\Users\\\\y_kato\\\\Anaconda3\\\\envs\\\\pytorch0.3.1\\\\lib\\\\site-packages\\\\Pythonwin',\n",
      " 'C:\\\\Users\\\\y_kato\\\\Anaconda3\\\\envs\\\\pytorch0.3.1\\\\lib\\\\site-packages\\\\IPython\\\\extensions',\n",
      " 'C:\\\\Users\\\\y_kato\\\\.ipython',\n",
      " 'I:\\\\ykato_git\\\\omg_instance_segmentation\\\\src\\\\pytorch-discriminative-loss-master\\\\src\\\\oomugi',\n",
      " 'I:\\\\ykato_git\\\\omg_instance_segmentation\\\\src\\\\pytorch-discriminative-loss-master\\\\src\\\\oomugi']\n"
     ]
    }
   ],
   "source": [
    "import sys\n",
    "import os\n",
    "# sys.path.append('../src/oomugi/')\n",
    "sys.path.append(os.path.abspath('../src/oomugi/'))\n",
    "import pprint\n",
    "pprint.pprint(sys.path)\n",
    "\n",
    "from model import UNet\n",
    "from dataset import SSSDataset\n",
    "from loss import DiscriminativeLoss"
   ]
  },
  {
   "cell_type": "code",
   "execution_count": 14,
   "metadata": {},
   "outputs": [
    {
     "name": "stdout",
     "output_type": "stream",
     "text": [
      "431.0\n",
      "204.0\n",
      "434.0\n",
      "210.0\n",
      "437.0\n",
      "216.0\n",
      "443.0\n",
      "222.0\n",
      "449.0\n",
      "228.0\n",
      "455.0\n",
      "235.0\n",
      "460.0\n",
      "243.0\n",
      "469.0\n",
      "249.0\n",
      "[431. 204. 434. 210. 437. 216. 443. 222. 449. 228. 455. 235. 460. 243.\n",
      " 469. 249.   0.   0.   0.   0.   0.   0.   0.   0.   0.   0.   0.   0.\n",
      "   0.   0.   0.   0.   0.   0.   0.   0.   0.   0.   0.   0.   0.   0.\n",
      "   0.   0.   0.   0.   0.   0.   0.   0.   0.   0.   0.   0.   0.   0.\n",
      "   0.   0.   0.   0.   0.   0.   0.   0.   0.   0.   0.   0.   0.   0.\n",
      "   0.   0.   0.   0.   0.   0.   0.   0.   0.   0.   0.   0.   0.   0.\n",
      "   0.   0.   0.   0.   0.   0.   0.   0.   0.   0.   0.   0.   0.   0.\n",
      "   0.   0.]\n"
     ]
    }
   ],
   "source": [
    "root = 'I:/ykato_git/datasets/oomugi_blender/dataset_ver3/dataset_SemInsSpline'\n",
    "spline_path = root + '/spline/'\n",
    "path = spline_path + 'age100location0_0000.txt'\n",
    "\n",
    "a = np.zeros((100), dtype=np.float32)\n",
    "\n",
    "num = 0\n",
    "for line in open(path, 'r'):\n",
    "    print(float(line))\n",
    "    a[num] = float(line)\n",
    "    num += 1\n",
    "    \n",
    "print(a)"
   ]
  },
  {
   "cell_type": "code",
   "execution_count": 30,
   "metadata": {},
   "outputs": [
    {
     "name": "stdout",
     "output_type": "stream",
     "text": [
      "\n",
      "  0\n",
      "  1\n",
      "  2\n",
      "  3\n",
      "  4\n",
      "  5\n",
      "  6\n",
      "  7\n",
      "  8\n",
      "  9\n",
      " 10\n",
      " 11\n",
      "[torch.FloatTensor of size 12]\n",
      "\n",
      "\n",
      "(0 ,0 ,.,.) = \n",
      "   0   1   2\n",
      "   3   4   5\n",
      "\n",
      "(0 ,1 ,.,.) = \n",
      "   6   7   8\n",
      "   9  10  11\n",
      "[torch.FloatTensor of size 1x2x2x3]\n",
      "\n",
      "\n",
      "    0     1     2     3     4     5     6     7     8     9    10    11\n",
      "[torch.FloatTensor of size 1x12]\n",
      "\n"
     ]
    }
   ],
   "source": [
    "a = np.array(range(1, 12), dtype=np.float32)\n",
    "a = torch.Tensor(a)\n",
    "# print(a.size())\n",
    "print(a)\n",
    "\n",
    "a = a.view((1, 2, 2, 3))\n",
    "\n",
    "print(a)\n",
    "      \n",
    "a = a.view((1, 12))\n",
    "\n",
    "print(a)"
   ]
  },
  {
   "cell_type": "code",
   "execution_count": 34,
   "metadata": {},
   "outputs": [
    {
     "name": "stdout",
     "output_type": "stream",
     "text": [
      "(128, 128)\n",
      "(1, 1, 128, 128)\n",
      "<class 'numpy.ndarray'>\n",
      "<class 'torch.FloatTensor'>\n"
     ]
    }
   ],
   "source": [
    "a = np.zeros((128,128))\n",
    "print(a.shape)\n",
    "a = a[np.newaxis, np.newaxis, :, :]\n",
    "print(a.shape)\n",
    "\n",
    "print(type(a))\n",
    "a = torch.Tensor(a)\n",
    "print(type(a))"
   ]
  },
  {
   "cell_type": "code",
   "execution_count": null,
   "metadata": {},
   "outputs": [],
   "source": []
  }
 ],
 "metadata": {
  "kernelspec": {
   "display_name": "Python-pytorch0.3.1",
   "language": "python",
   "name": "pytorch0.3.1"
  },
  "language_info": {
   "codemirror_mode": {
    "name": "ipython",
    "version": 3
   },
   "file_extension": ".py",
   "mimetype": "text/x-python",
   "name": "python",
   "nbconvert_exporter": "python",
   "pygments_lexer": "ipython3",
   "version": "3.6.6"
  }
 },
 "nbformat": 4,
 "nbformat_minor": 2
}
